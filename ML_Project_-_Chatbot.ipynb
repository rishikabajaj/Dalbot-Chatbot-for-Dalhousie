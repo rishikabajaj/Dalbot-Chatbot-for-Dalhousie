{
 "cells": [
  {
   "cell_type": "markdown",
   "id": "4d791079",
   "metadata": {},
   "source": [
    "### Performing NLP to generate data\n",
    "\n",
    "\"Is anyone there?\"\n",
    "       \n",
    "       🠋 (tokenize)\n",
    "       \n",
    "[\"Is\",\"anyone\",\"there\",\"?\"]\n",
    "\n",
    "       🠋 (lower + stem)\n",
    "\n",
    "[\"is\",\"anyon\",\"there\",\"?\"]\n",
    "\n",
    "       🠋 (exclude punctuation characters)\n",
    "       \n",
    "[\"is\",\"anyone\",\"there\"]\n",
    "\n",
    "       🠋 (bag of words)\n",
    "       \n",
    "### X [0,0,0,1,0,1,0,1]\n",
    "       "
   ]
  },
  {
   "cell_type": "code",
   "execution_count": 11,
   "id": "ac0e3ea3",
   "metadata": {},
   "outputs": [],
   "source": [
    "import nltk\n",
    "from nltk.stem.porter import PorterStemmer\n",
    "import json\n",
    "import numpy as np\n",
    "import torch\n",
    "import torch.nn as nn\n",
    "from torch.utils.data import Dataset, DataLoader\n",
    "import matplotlib.pyplot as plt\n",
    "\n",
    "stemmer = PorterStemmer()\n",
    "\n",
    "#tokanizing the data to get the data in tokens\n",
    "def tokenize(sentence):\n",
    "    return nltk.word_tokenize(sentence)\n",
    "\n",
    "#stemming each word\n",
    "def stem(word):\n",
    "    return stemmer.stem(word.lower())\n",
    "\n",
    "#generating the bag of words\n",
    "def bag_of_words(tokanized_sentence,all_words):\n",
    "    tokanized_sentence = [stem(w) for w in tokanized_sentence]\n",
    "    bag = np.zeros(len(all_words),dtype = np.float32)\n",
    "    for index,w in enumerate(all_words):\n",
    "        if w in tokanized_sentence:\n",
    "            bag[index] = 1.0\n",
    "    return bag"
   ]
  },
  {
   "cell_type": "code",
   "execution_count": 12,
   "id": "39edc69b",
   "metadata": {},
   "outputs": [
    {
     "name": "stdout",
     "output_type": "stream",
     "text": [
      "181\n",
      "['Academic Advice', 'Admission Requirements', 'Application Deadlines', 'Awards and Financial Aid', 'Business', 'Campus', 'Contact', 'Course Application', 'Courses', 'Date', 'Escalate', 'Exam Schedule', 'Health Insurance', 'Part-time', 'Payment', 'Recreational Activities', 'Registration', 'Residential Life', 'Robot', 'Start Over', 'Technology', 'Timing', 'UnderGraduate', 'Weather', 'funny', 'goodbye', 'greeting', 'housing', 'programs', 'thanks']\n"
     ]
    }
   ],
   "source": [
    "#loading data from json\n",
    "with open('chatbotData.json', 'r') as f:\n",
    "    data = json.load(f)\n",
    "\n",
    "all_words = []\n",
    "tags = []\n",
    "xy = []\n",
    "#creating arrays for different tags in json\n",
    "for intent in data['intents']:\n",
    "    tag = intent['tag']\n",
    "    tags.append(tag)\n",
    "    for pattern in intent['patterns']:\n",
    "        w = tokenize(pattern)\n",
    "        all_words.extend(w)\n",
    "        xy.append((w,tag))\n",
    "\n",
    "#removing unwanted symbols and punctuation characters from the data\n",
    "ignore_words = ['?','!','.',',']\n",
    "all_words = [stem(w) for w in all_words if w not in ignore_words]\n",
    "all_words = sorted(set(all_words))\n",
    "tags = sorted(set(tags))"
   ]
  },
  {
   "cell_type": "code",
   "execution_count": 13,
   "id": "901e931a",
   "metadata": {},
   "outputs": [
    {
     "name": "stdout",
     "output_type": "stream",
     "text": [
      "179\n"
     ]
    }
   ],
   "source": [
    "with open('test_intents.json','r') as f:\n",
    "    test_intents = json.load(f)\n",
    "\n",
    "testall_words = []\n",
    "testtags =[]\n",
    "testxy = []\n",
    "\n",
    "for intent in test_intents['intents']:\n",
    "    testtag = intent['tag']\n",
    "    testtags.append(testtag)\n",
    "    for pattern in intent['patterns']:\n",
    "        testw = tokenize(pattern)\n",
    "        testall_words.extend(testw)\n",
    "        testxy.append((testw, testtag))\n",
    "\n",
    "ignore_words = ['?','!','.',',']\n",
    "testall_words =[stem(testw) for testw in testall_words if testw not in ignore_words]\n",
    "testall_words = sorted(set(testall_words))\n",
    "testtags = sorted(set(testtags))"
   ]
  },
  {
   "cell_type": "code",
   "execution_count": 14,
   "id": "e4c8660a",
   "metadata": {},
   "outputs": [],
   "source": [
    "x_train = []\n",
    "y_train = []\n",
    "# getting the index of the appropriate intent from the tags array and taking it as ground truth\n",
    "for(pattern_sentence, tag) in xy:\n",
    "    bag = bag_of_words(pattern_sentence, all_words)\n",
    "    x_train.append(bag)\n",
    "\n",
    "    label = tags.index(tag)\n",
    "    y_train.append(label)\n",
    "\n",
    "x_train = np.array(x_train)\n",
    "y_train = np.array(y_train)"
   ]
  },
  {
   "cell_type": "code",
   "execution_count": 15,
   "id": "7b5ff777",
   "metadata": {},
   "outputs": [],
   "source": [
    "x_test = []\n",
    "y_test = []\n",
    "\n",
    "for(pattern_sentence,tag) in testxy:\n",
    "    testbag = bag_of_words(pattern_sentence, all_words)\n",
    "    x_test.append(testbag)\n",
    "    testlabel = testtags.index(tag)\n",
    "    y_test.append(testlabel)\n",
    "\n",
    "test_set = np.array(x_test)\n",
    "y_test = np.array(y_test)"
   ]
  },
  {
   "cell_type": "code",
   "execution_count": 16,
   "id": "0ace372a",
   "metadata": {},
   "outputs": [],
   "source": [
    "import torch.nn.functional as F\n",
    "class NeuralNet(nn.Module):\n",
    "    def __init__(self, input_size, hidden_size, num_classes):\n",
    "        super(NeuralNet, self).__init__()\n",
    "        self.l1 = nn.Linear(input_size, hidden_size) \n",
    "        self.l2 = nn.Linear(hidden_size, hidden_size) \n",
    "        self.l3 = nn.Linear(hidden_size, num_classes)\n",
    "        self.relu = nn.ReLU()\n",
    "        #Adding Dropout Layer\n",
    "        self.dropout = nn.Dropout(0.2)\n",
    "\n",
    "    def forward(self, x):\n",
    "        out = self.l1(x)\n",
    "        out = self.relu(out)\n",
    "        out = self.dropout(out)\n",
    "        out = self.l2(out)\n",
    "        out = self.relu(out)\n",
    "        out = self.dropout(out)\n",
    "        out = self.l3(out)\n",
    "        return out"
   ]
  },
  {
   "cell_type": "code",
   "execution_count": 17,
   "id": "977a69bb",
   "metadata": {
    "scrolled": false
   },
   "outputs": [
    {
     "name": "stdout",
     "output_type": "stream",
     "text": [
      "Epoch [100/1000], Loss: 73.6872\n",
      "Epoch [200/1000], Loss: 130.6462\n",
      "Epoch [300/1000], Loss: 168.6117\n",
      "Epoch [400/1000], Loss: 200.5398\n",
      "Epoch [500/1000], Loss: 228.3225\n",
      "Epoch [600/1000], Loss: 253.7305\n",
      "Epoch [700/1000], Loss: 274.4767\n",
      "Epoch [800/1000], Loss: 296.1294\n",
      "Epoch [900/1000], Loss: 318.9557\n",
      "Epoch [1000/1000], Loss: 342.7564\n",
      "[0.0, 25.0, 75.0, 100.0, 50.0, 25.0, 75.0, 50.0, 75.0, 75.0]\n",
      "final loss: 342.7564\n",
      "training complete. file saved to data.pth\n"
     ]
    },
    {
     "data": {
      "text/plain": [
       "[<matplotlib.lines.Line2D at 0x1c61dad98a0>]"
      ]
     },
     "execution_count": 17,
     "metadata": {},
     "output_type": "execute_result"
    },
    {
     "data": {
      "image/png": "[encoded data removed]",
      "text/plain": [
       "<Figure size 432x288 with 1 Axes>"
      ]
     },
     "metadata": {
      "needs_background": "light"
     },
     "output_type": "display_data"
    }
   ],
   "source": [
    "# Hyper-parameters \n",
    "num_epochs = 1000\n",
    "batch_size = 8\n",
    "learning_rate = 0.001\n",
    "input_size = len(x_train[0])\n",
    "hidden_size = 8\n",
    "output_size = len(tags)\n",
    "class ChatDataset(Dataset):\n",
    "    def __init__(self,x,y):\n",
    "        self.n_samples = len(x)\n",
    "        self.x_data = x\n",
    "        self.y_data = y\n",
    "        \n",
    "    def __getitem__(self, index):\n",
    "        return self.x_data[index], self.y_data[index]\n",
    "    \n",
    "    def __len__(self):\n",
    "        return self.n_samples\n",
    "\n",
    "#creating a loader to automatically load data with variable batch size into the model\n",
    "dataset = ChatDataset(x_train,y_train)\n",
    "train_loader = DataLoader(dataset=dataset,batch_size = batch_size, shuffle = True, num_workers = 0)\n",
    "device = torch.device('cuda' if torch.cuda.is_available() else 'cpu')\n",
    "model = NeuralNet(input_size, hidden_size, output_size).to(device)\n",
    "# Loss and optimizer\n",
    "criterion = nn.CrossEntropyLoss()\n",
    "optimizer = torch.optim.Adam(model.parameters(), lr=learning_rate)\n",
    "\n",
    "correct= 0\n",
    "train_accuracy = []\n",
    "epoch_val = []\n",
    "# Train the model\n",
    "the_last_loss = 100\n",
    "patience = 2\n",
    "trigger_times = 0\n",
    "# to track the training loss as the model trains\n",
    "train_losses = []\n",
    "for epoch in range(num_epochs):\n",
    "    l1_regularization, l2_regularization = torch.tensor(0), torch.tensor(0)\n",
    "    for (words, labels) in train_loader:\n",
    "        words = words.to(device)\n",
    "        labels = labels.to(device)\n",
    "        optimizer.zero_grad()\n",
    "        # Forward pass\n",
    "        outputs = model(words)\n",
    "        loss = criterion(outputs, labels.long())\n",
    "        #Regularization\n",
    "        for param in model.parameters():\n",
    "            l1_regularization += (torch.norm(param, 1)**2).long()\n",
    "            l2_regularization += (torch.norm(param, 2)**2).long()\n",
    "        loss = loss + (0.0001 * l1_regularization) + (0.0001 * l2_regularization)\n",
    "        loss.backward()\n",
    "        optimizer.step()\n",
    "    #Getting accuracy of the trained model\n",
    "    y_pred = torch.max(outputs,1)[1]\n",
    "    correct = (y_pred == labels).sum().item()\n",
    "    accuracy = 100*(correct / outputs.shape[0])\n",
    "    train_losses.append(loss.item())\n",
    "       \n",
    "    if (epoch+1) % 100 == 0:\n",
    "        print (f'Epoch [{epoch+1}/{num_epochs}], Loss: {loss.item():.4f}')\n",
    "        epoch_val.append(epoch+1/num_epochs)\n",
    "        train_accuracy.append(accuracy)\n",
    "            \n",
    "            \n",
    "    train_loss = np.average(train_losses)\n",
    "\n",
    "print(train_accuracy)\n",
    "print(f'final loss: {loss.item():.4f}')\n",
    "data = {\n",
    "\"model_state\": model.state_dict(),\n",
    "\"input_size\": input_size,\n",
    "\"hidden_size\": hidden_size,\n",
    "\"output_size\": output_size,\n",
    "\"all_words\": all_words,\n",
    "\"tags\": tags\n",
    "}\n",
    "\n",
    "FILE = \"data.pth\"\n",
    "torch.save(data, FILE)\n",
    "print(f'training complete. file saved to {FILE}')\n",
    "plt.plot(epoch_val,train_accuracy)"
   ]
  },
  {
   "cell_type": "markdown",
   "id": "6d2bc7fd",
   "metadata": {},
   "source": [
    "### Training Data ###\n",
    "                                       ### bag of words ###\n",
    "                                         \n",
    "          all words 🠊   [\"Hi\", \"How\", \"are\", \"you\", \"bye\", \"see\", \"later\"]\n",
    "               tags 🠊   ['Courses', 'Menu', 'Start Over', 'funny', 'goodbye', 'greeting', 'thanks']\n",
    "       \n",
    "               \"Hi\" 🠊   [1, 0, 0, 0, 0, 0, 0]\n",
    "      \"How are you\" 🠊   [0, 1, 1, 1, 0, 0, 0]               5(greeting)\n",
    "     \n",
    "              \"Bye\" 🠊   [0, 0, 0, 0, 1, 0, 0]\n",
    "    \"See you later\" 🠊   [0, 0, 0, 1, 0, 1, 1]               4(goodbye)\n",
    "    \n",
    "                               \n",
    "                                  X                              Y (ground truth)"
   ]
  },
  {
   "cell_type": "markdown",
   "id": "ef4fe327",
   "metadata": {},
   "source": [
    "### What are the parameters you are controlling?\n",
    "The parameters we are controlling in the data:\n",
    "\n",
    "1. Train-test split ratio\n",
    "\n",
    "2. Batch Size\n",
    "\n",
    "3. Choice of activation function in a neural network (nn) layer (e.g. Sigmoid, ReLU, Tanh)\n",
    "\n",
    "4. Choice of optimization algorithm (e.g., gradient descent, stochastic gradient descent, or Adam optimizer)\n",
    "\n",
    "5. The choice of cost or loss function the model will use\n",
    "\n",
    "6. Number of hidden layers in a neural network\n",
    "\n",
    "7. Learning rate in optimization algorithms (e.g. gradient descent)\n",
    "\n",
    "8. Number of iterations (epochs) in training a neural network"
   ]
  },
  {
   "cell_type": "markdown",
   "id": "6ae81022",
   "metadata": {},
   "source": [
    "### How do you get the ground truth?\n",
    "First, we have generated bag of words by putting all the words of the sentence in a bag. \n",
    "  sentence = [\"hello\", \"how\", \"are\", \"you\"]\n",
    "  words = [\"hi\", \"hello\", \"I\", \"you\", \"bye\", \"thank\", \"cool\"]\n",
    "We are generating the ground truth by comparing the words of the sentence to the bag of words. \n",
    "bog   = [  0 ,    1 ,    0 ,   1 ,    0 ,    0 ,      0]\n",
    "After the comparison, we have assigned the sentence to a particular tag. The tag is considered as the round truth.\n",
    "bog   = [  0 ,    1 ,    0 ,   1 ,    0 ,    0 ,      0]. 🠊 ‘greetings’ [GROUND TRUTH]"
   ]
  },
  {
   "cell_type": "markdown",
   "id": "b3e0447c",
   "metadata": {},
   "source": [
    "### Is this an abstraction of the data described in your original proposal?\n",
    "In our original proposal, we aimed at creating chatbot for Dalhousie covering courses, payments etc. The data here is the abstraction of the data we define. We will expand it in our project later covering more areas."
   ]
  },
  {
   "cell_type": "markdown",
   "id": "00e05503",
   "metadata": {},
   "source": []
  },
  {
   "cell_type": "code",
   "execution_count": 23,
   "id": "6665174d",
   "metadata": {
    "scrolled": true
   },
   "outputs": [
    {
     "name": "stdout",
     "output_type": "stream",
     "text": [
      "Epoch [100], Test Accuracy of the model: 12.5000\n",
      "Epoch [200], Test Accuracy of the model: 25.0000\n",
      "Epoch [300], Test Accuracy of the model: 37.5000\n",
      "Epoch [400], Test Accuracy of the model: 37.5000\n",
      "Epoch [500], Test Accuracy of the model: 37.5000\n",
      "Epoch [600], Test Accuracy of the model: 37.5000\n",
      "Epoch [700], Test Accuracy of the model: 37.5000\n",
      "Epoch [800], Test Accuracy of the model: 50.0000\n",
      "Epoch [900], Test Accuracy of the model: 50.0000\n",
      "Epoch [1000], Test Accuracy of the model: 75.0000\n",
      "[12.5, 25.0, 37.5, 37.5, 37.5, 37.5, 37.5, 50.0, 50.0, 75.0]\n"
     ]
    },
    {
     "data": {
      "image/png": "[encoded data removed]",
      "text/plain": [
       "<Figure size 432x288 with 1 Axes>"
      ]
     },
     "metadata": {
      "needs_background": "light"
     },
     "output_type": "display_data"
    }
   ],
   "source": [
    "test_dataset = ChatDataset(test_set,y_test)\n",
    "test_loader = DataLoader(dataset=test_dataset,batch_size = batch_size, shuffle = True, num_workers = 0)\n",
    "\n",
    "# loading the saved model to test the accuracy with new data\n",
    "FILE = \"data.pth\"\n",
    "data = torch.load(FILE)\n",
    "model_state = data[\"model_state\"]\n",
    "\n",
    "model = NeuralNet(input_size, hidden_size, output_size).to(device)\n",
    "model.load_state_dict(model_state)\n",
    "model.eval()\n",
    "\n",
    "epoch_val = []\n",
    "num_epochs=1000\n",
    "def test():\n",
    "    # to track the validation loss as the model trains\n",
    "    val_losses = []\n",
    "    accuracy_val =[]\n",
    "    with torch.no_grad():\n",
    "        for epoch in range(num_epochs):\n",
    "            last_loss = 0\n",
    "            for (words, labels) in test_loader:\n",
    "                words = words.to(device)\n",
    "                labels = labels.to(device)\n",
    "\n",
    "                # Forward pass\n",
    "                outputs = model(words)\n",
    "                # Using sigmoid to get probabilities in the output\n",
    "                output = torch.sigmoid(outputs)\n",
    "                loss = criterion(output, labels.long())\n",
    "                y_pred = torch.max(outputs,1)[1]\n",
    "                correct = (y_pred == labels).sum().item()\n",
    "                accuracy = 100*(correct / outputs.shape[0])\n",
    "                val_losses.append(loss.item())\n",
    "            if (epoch+1) % 100 == 0:\n",
    "                print(f'Epoch [{epoch+1}], Test Accuracy of the model: %.4f' % accuracy)\n",
    "                accuracy_val.append(accuracy)\n",
    "                epoch_val.append(epoch+1/num_epochs)\n",
    "            \n",
    "            val_loss = np.average(val_losses)\n",
    "    return accuracy_val\n",
    "\n",
    "accuracy_val = test()\n",
    "print(accuracy_val)\n",
    "plt.plot(epoch_val,accuracy_val)\n",
    "\n",
    "font1 = {'family':'serif','color':'blue','size':15}\n",
    "font2 = {'family':'serif','color':'darkred','size':15}\n",
    "plt.plot(epoch_val, train_accuracy, 'o-', color='blue', label='train')\n",
    "plt.plot(epoch_val, accuracy_val, 'o-', color='red', label='test')\n",
    "plt.legend()\n",
    "plt.grid()\n",
    "plt.xlabel(\"Epochs\", fontdict = font2)\n",
    "plt.ylabel(\"Accuracy\", fontdict = font2)\n",
    "plt.title(\"Accuracy vs Epoch in Training and Testing Dataset\", fontdict = font1)\n",
    "plt.show()"
   ]
  },
  {
   "cell_type": "markdown",
   "id": "5054fa29",
   "metadata": {},
   "source": [
    "### Overfitting \n",
    "Our model currently shows over-fitting. It occurs when a statistical model fits exactly against its training data. When this happens, the algorithm unfortunately cannot perform accurately against unseen data, defeating its purpose. Generalization of a model to new data is ultimately what allows us to use machine learning algorithms every day to make predictions and classify data.\n",
    "\n",
    "When the accuracy of your training dataset, the dataset used to teach the model is greater than your testing accuracy. In terms of ‘loss’, overfitting reveals itself when the model has a low error in the training set and a higher error in the testing set. \n",
    "\n",
    "This can be identified visually in the abive graph. We have plotted loss and accuracy metrics and seeing where the performance metrics converge for both training and testing datasets."
   ]
  },
  {
   "cell_type": "markdown",
   "id": "f288ef96",
   "metadata": {},
   "source": [
    "### How would we prevent overfitting\n",
    "To improve the accuracy of our model, we can essentially do two things\n",
    "•\tImprove our model\n",
    "•\tImprove our data\n",
    "Improving our model\n",
    " We can adopt three common ways to adapt our model in order to prevent overfitting.\n",
    "\n",
    "#### 1. Simplifying the model\n",
    "The first step that we can take when dealing with overfitting is to decrease the complexity of the model. To decrease the complexity of the model, we can simply remove layers or reduce the number of neurons in order to make our network smaller. There is no general rule on how much to remove or how big your network should be. But, if our network is overfitting, we can try making it smaller.\n",
    "\n",
    "#### 2. Adding Dropout Layers\n",
    "Dropout Layers can be an easy and effective way to prevent overfitting in your models. A dropout layer randomly drops some of the connections between layers. This helps to prevent overfitting, because if a connection is dropped.\n",
    "\n",
    "#### 3. Early Stopping\n",
    "Another way to prevent overfitting is to stop our training process early: Instead of training for a fixed number of epochs, we can stop as soon as the validation loss rises — because, after that, our model will generally only get worse with more training."
   ]
  },
  {
   "cell_type": "code",
   "execution_count": null,
   "id": "8b94a183",
   "metadata": {
    "scrolled": true
   },
   "outputs": [
    {
     "name": "stdout",
     "output_type": "stream",
     "text": [
      "Let's chat! (type 'quit' to exit)\n"
     ]
    }
   ],
   "source": [
    "# chat.py\n",
    "import random\n",
    "import json\n",
    "\n",
    "import torch\n",
    "\n",
    "device = torch.device('cuda' if torch.cuda.is_available() else 'cpu')\n",
    "\n",
    "with open('chatbotData.json', 'r') as json_data:\n",
    "    intents = json.load(json_data)\n",
    "\n",
    "FILE = \"data.pth\"\n",
    "data = torch.load(FILE)\n",
    "\n",
    "input_size = data[\"input_size\"]\n",
    "hidden_size = data[\"hidden_size\"]\n",
    "output_size = data[\"output_size\"]\n",
    "all_words = data['all_words']\n",
    "tags = data['tags']\n",
    "model_state = data[\"model_state\"]\n",
    "\n",
    "model = NeuralNet(input_size, hidden_size, output_size).to(device)\n",
    "model.load_state_dict(model_state)\n",
    "model.eval()\n",
    "\n",
    "bot_name = \"SRS Bot\"\n",
    "print(\"Let's chat! (type 'quit' to exit)\")\n",
    "while True:\n",
    "    # sentence = \"do you use credit cards?\"\n",
    "    sentence = input(\"You: \")\n",
    "    if sentence == \"quit\":\n",
    "        break\n",
    "\n",
    "    sentence = tokenize(sentence)\n",
    "    X = bag_of_words(sentence, all_words)\n",
    "    X = X.reshape(1, X.shape[0])\n",
    "    X = torch.from_numpy(X).to(device)\n",
    "\n",
    "    output = model(X)\n",
    "    _, predicted = torch.max(output, dim=1)\n",
    "\n",
    "    tag = tags[predicted.item()]\n",
    "\n",
    "    probs = torch.softmax(output, dim=1)\n",
    "    prob = probs[0][predicted.item()]\n",
    "    # Experiment on this number- False positive vs false negative. Reasonable number would be half-0.5\n",
    "    if prob.item() > 0.50:\n",
    "        for intent in intents['intents']:\n",
    "            if tag == intent[\"tag\"]:\n",
    "                print(f\"{bot_name}: {random.choice(intent['responses'])}\")\n",
    "    else:\n",
    "        print(f\"{bot_name}: I do not understand...\")"
   ]
  },
  {
   "cell_type": "code",
   "execution_count": null,
   "id": "cef8719f",
   "metadata": {},
   "outputs": [],
   "source": []
  }
 ],
 "metadata": {
  "interpreter": {
   "hash": "6b9b0da33ef32798b9c10b463410406c2fe6f65ad5ba5b0af3636a9bd2dc81db"
  },
  "kernelspec": {
   "display_name": "Python 3 (ipykernel)",
   "language": "python",
   "name": "python3"
  },
  "language_info": {
   "codemirror_mode": {
    "name": "ipython",
    "version": 3
   },
   "file_extension": ".py",
   "mimetype": "text/x-python",
   "name": "python",
   "nbconvert_exporter": "python",
   "pygments_lexer": "ipython3",
   "version": "3.10.1"
  }
 },
 "nbformat": 4,
 "nbformat_minor": 5
}
